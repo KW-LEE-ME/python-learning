{
 "cells": [
  {
   "cell_type": "markdown",
   "metadata": {},
   "source": [
    "# Soring, searching, and counting"
   ]
  },
  {
   "cell_type": "code",
   "execution_count": 1,
   "metadata": {
    "ExecuteTime": {
     "end_time": "2020-02-03T07:54:26.854687Z",
     "start_time": "2020-02-03T07:54:26.839087Z"
    }
   },
   "outputs": [],
   "source": [
    "import numpy as np"
   ]
  },
  {
   "cell_type": "code",
   "execution_count": 2,
   "metadata": {},
   "outputs": [
    {
     "data": {
      "text/plain": [
       "'1.11.2'"
      ]
     },
     "execution_count": 2,
     "metadata": {},
     "output_type": "execute_result"
    }
   ],
   "source": [
    "np.__version__"
   ]
  },
  {
   "cell_type": "code",
   "execution_count": 3,
   "metadata": {
    "collapsed": true
   },
   "outputs": [],
   "source": [
    "author = 'kyubyong. longinglove@nate.com'"
   ]
  },
  {
   "cell_type": "markdown",
   "metadata": {},
   "source": [
    "## Sorting"
   ]
  },
  {
   "cell_type": "markdown",
   "metadata": {},
   "source": [
    "Q1. Sort x along the second axis."
   ]
  },
  {
   "cell_type": "code",
   "execution_count": 2,
   "metadata": {
    "ExecuteTime": {
     "end_time": "2020-02-03T07:55:39.628744Z",
     "start_time": "2020-02-03T07:55:39.589544Z"
    }
   },
   "outputs": [
    {
     "data": {
      "text/plain": [
       "array([[1, 4],\n",
       "       [1, 3]])"
      ]
     },
     "execution_count": 2,
     "metadata": {},
     "output_type": "execute_result"
    }
   ],
   "source": [
    "x = np.array([[1,4],[3,1]])\n",
    "np.sort(x, axis=1)"
   ]
  },
  {
   "cell_type": "markdown",
   "metadata": {},
   "source": [
    "Q2. Sort pairs of surnames and first names and return their indices. (first by surname, then by name)."
   ]
  },
  {
   "cell_type": "code",
   "execution_count": 3,
   "metadata": {
    "ExecuteTime": {
     "end_time": "2020-02-03T08:00:45.628726Z",
     "start_time": "2020-02-03T08:00:45.609126Z"
    }
   },
   "outputs": [
    {
     "data": {
      "text/plain": [
       "array([1, 2, 0], dtype=int64)"
      ]
     },
     "execution_count": 3,
     "metadata": {},
     "output_type": "execute_result"
    }
   ],
   "source": [
    "surnames =    ('Hertz',    'Galilei', 'Hertz')\n",
    "first_names = ('Heinrich', 'Galileo', 'Gustav')\n",
    "np.lexsort((first_names, surnames)) #排序时优先照顾靠后的列"
   ]
  },
  {
   "cell_type": "markdown",
   "metadata": {},
   "source": [
    "Q3. Get the indices that would sort x along the second axis."
   ]
  },
  {
   "cell_type": "code",
   "execution_count": 5,
   "metadata": {
    "ExecuteTime": {
     "end_time": "2020-02-03T08:05:24.261014Z",
     "start_time": "2020-02-03T08:05:24.245414Z"
    }
   },
   "outputs": [
    {
     "data": {
      "text/plain": [
       "array([[0, 1],\n",
       "       [1, 0]], dtype=int64)"
      ]
     },
     "execution_count": 5,
     "metadata": {},
     "output_type": "execute_result"
    }
   ],
   "source": [
    "x = np.array([[1,4],[3,1]])\n",
    "np.argsort(x, axis=1)"
   ]
  },
  {
   "cell_type": "markdown",
   "metadata": {},
   "source": [
    "Q4. Create an array such that its fifth element would be the same as the element of sorted x, and it divide other elements by their value."
   ]
  },
  {
   "cell_type": "code",
   "execution_count": 28,
   "metadata": {
    "ExecuteTime": {
     "end_time": "2020-02-03T08:24:11.567898Z",
     "start_time": "2020-02-03T08:24:11.549298Z"
    }
   },
   "outputs": [
    {
     "name": "stdout",
     "output_type": "stream",
     "text": [
      "[7 2 0 9 8 5 6 1 3 4]\n",
      "[2 1 0 3 4 5 6 7 9 8]\n"
     ]
    }
   ],
   "source": [
    "x = np.random.permutation(10)\n",
    "print(x)\n",
    "print(np.partition(x, 5))"
   ]
  },
  {
   "cell_type": "markdown",
   "metadata": {},
   "source": [
    "Q5. Create the indices of an array such that its third element would be the same as the element of sorted x, and it divide other elements by their value."
   ]
  },
  {
   "cell_type": "code",
   "execution_count": 27,
   "metadata": {
    "ExecuteTime": {
     "end_time": "2020-02-03T08:24:05.106451Z",
     "start_time": "2020-02-03T08:24:05.075251Z"
    }
   },
   "outputs": [
    {
     "name": "stdout",
     "output_type": "stream",
     "text": [
      "[0 4 9 8 7 3 6 2 1 5]\n",
      "[2 1 0 3 4 5 6 8 9 7]\n"
     ]
    }
   ],
   "source": [
    "x = np.random.permutation(10)\n",
    "print(x)\n",
    "print(np.partition(x, 3))"
   ]
  },
  {
   "cell_type": "markdown",
   "metadata": {},
   "source": [
    "## Searching"
   ]
  },
  {
   "cell_type": "markdown",
   "metadata": {},
   "source": [
    "Q6. Get the maximum and minimum values and their indices of x along the second axis."
   ]
  },
  {
   "cell_type": "code",
   "execution_count": 11,
   "metadata": {
    "ExecuteTime": {
     "end_time": "2020-02-03T08:10:48.858976Z",
     "start_time": "2020-02-03T08:10:48.827776Z"
    }
   },
   "outputs": [
    {
     "name": "stdout",
     "output_type": "stream",
     "text": [
      "x = [[0 9 1 6 2]\n",
      " [3 5 4 8 7]]\n",
      "maximum values =  [9 8]\n",
      "max indices = [1 3]\n",
      "minimum values = [0 3]\n",
      "min indices = [0 0]\n"
     ]
    }
   ],
   "source": [
    "x = np.random.permutation(10).reshape(2, 5)\n",
    "print(\"x =\", x)\n",
    "print(\"maximum values = \", np.max(x, 1))\n",
    "print(\"max indices =\", np.argmax(x, 1))\n",
    "print(\"minimum values =\", np.min(x, 1))\n",
    "print(\"min indices =\", np.argmin(x, 1))"
   ]
  },
  {
   "cell_type": "markdown",
   "metadata": {},
   "source": [
    "Q7. Get the maximum and minimum values and their indices of x along the second axis, ignoring NaNs."
   ]
  },
  {
   "cell_type": "code",
   "execution_count": 12,
   "metadata": {
    "ExecuteTime": {
     "end_time": "2020-02-03T08:12:08.686518Z",
     "start_time": "2020-02-03T08:12:08.670918Z"
    }
   },
   "outputs": [
    {
     "name": "stdout",
     "output_type": "stream",
     "text": [
      "maximum values =  [4. 3.]\n",
      "max indices = [1 0]\n",
      "minimum values = [4. 2.]\n",
      "min indices = [1 1]\n"
     ]
    }
   ],
   "source": [
    "x = np.array([[np.nan, 4], [3, 2]])\n",
    "print(\"maximum values = \", np.nanmax(x, 1))\n",
    "print(\"max indices =\", np.nanargmax(x, 1))\n",
    "print(\"minimum values =\", np.nanmin(x, 1))\n",
    "print(\"min indices =\", np.nanargmin(x, 1))"
   ]
  },
  {
   "cell_type": "markdown",
   "metadata": {},
   "source": [
    "Q8. Get the values and indices of the elements that are bigger than 2 in x.\n"
   ]
  },
  {
   "cell_type": "code",
   "execution_count": 15,
   "metadata": {
    "ExecuteTime": {
     "end_time": "2020-02-03T08:17:08.504764Z",
     "start_time": "2020-02-03T08:17:08.483164Z"
    }
   },
   "outputs": [
    {
     "name": "stdout",
     "output_type": "stream",
     "text": [
      "Values bigger than 2 = [3 3 5]\n",
      "Their indices are (array([0, 1, 1], dtype=int64), array([2, 1, 2], dtype=int64))\n",
      "Their indices are (array([0, 1, 1], dtype=int64), array([2, 1, 2], dtype=int64))\n"
     ]
    }
   ],
   "source": [
    "x = np.array([[1, 2, 3], [1, 3, 5]])\n",
    "print(\"Values bigger than 2 =\", x[x>2])\n",
    "print(\"Their indices are\", np.nonzero(x>2))#返回输入数组中非零元素的索引\n",
    "print(\"Their indices are\", np.where(x>2))"
   ]
  },
  {
   "cell_type": "markdown",
   "metadata": {},
   "source": [
    "Q9. Get the indices of the elements that are bigger than 2 in the flattend x."
   ]
  },
  {
   "cell_type": "code",
   "execution_count": 16,
   "metadata": {
    "ExecuteTime": {
     "end_time": "2020-02-03T08:17:52.651579Z",
     "start_time": "2020-02-03T08:17:52.635979Z"
    }
   },
   "outputs": [
    {
     "data": {
      "text/plain": [
       "array([0, 1, 2, 3, 4, 5], dtype=int64)"
      ]
     },
     "execution_count": 16,
     "metadata": {},
     "output_type": "execute_result"
    }
   ],
   "source": [
    "x = np.array([[1, 2, 3], [1, 3, 5]])\n",
    "np.flatnonzero(x)"
   ]
  },
  {
   "cell_type": "markdown",
   "metadata": {},
   "source": [
    "Q10. Check the elements of x and return 0 if it is less than 0, otherwise the element itself."
   ]
  },
  {
   "cell_type": "code",
   "execution_count": 17,
   "metadata": {
    "ExecuteTime": {
     "end_time": "2020-02-03T08:18:27.023263Z",
     "start_time": "2020-02-03T08:18:26.992063Z"
    }
   },
   "outputs": [
    {
     "data": {
      "text/plain": [
       "array([[0, 0, 0],\n",
       "       [0, 0, 0],\n",
       "       [1, 2, 3]])"
      ]
     },
     "execution_count": 17,
     "metadata": {},
     "output_type": "execute_result"
    }
   ],
   "source": [
    "x = np.arange(-5, 4).reshape(3, 3)\n",
    "np.where(x <0, 0, x)"
   ]
  },
  {
   "cell_type": "markdown",
   "metadata": {},
   "source": [
    "Q11. Get the indices where elements of y should be inserted to x to maintain order."
   ]
  },
  {
   "cell_type": "code",
   "execution_count": 18,
   "metadata": {
    "ExecuteTime": {
     "end_time": "2020-02-03T08:19:02.555259Z",
     "start_time": "2020-02-03T08:19:02.524058Z"
    }
   },
   "outputs": [
    {
     "data": {
      "text/plain": [
       "array([0, 2, 1, 3], dtype=int64)"
      ]
     },
     "execution_count": 18,
     "metadata": {},
     "output_type": "execute_result"
    }
   ],
   "source": [
    "x = [1, 3, 5, 7, 9]\n",
    "y = [0, 4, 2, 6]\n",
    "np.searchsorted(x, y)"
   ]
  },
  {
   "cell_type": "markdown",
   "metadata": {},
   "source": [
    "## Counting"
   ]
  },
  {
   "cell_type": "markdown",
   "metadata": {},
   "source": [
    "Q12. Get the number of nonzero elements in x."
   ]
  },
  {
   "cell_type": "code",
   "execution_count": 19,
   "metadata": {
    "ExecuteTime": {
     "end_time": "2020-02-03T08:19:22.805453Z",
     "start_time": "2020-02-03T08:19:22.774253Z"
    }
   },
   "outputs": [
    {
     "data": {
      "text/plain": [
       "5"
      ]
     },
     "execution_count": 19,
     "metadata": {},
     "output_type": "execute_result"
    }
   ],
   "source": [
    "x = [[0,1,7,0,0],[3,0,0,2,19]]\n",
    "np.count_nonzero(x)"
   ]
  },
  {
   "cell_type": "code",
   "execution_count": null,
   "metadata": {
    "collapsed": true
   },
   "outputs": [],
   "source": []
  }
 ],
 "metadata": {
  "kernelspec": {
   "display_name": "Python 3",
   "language": "python",
   "name": "python3"
  },
  "language_info": {
   "codemirror_mode": {
    "name": "ipython",
    "version": 3
   },
   "file_extension": ".py",
   "mimetype": "text/x-python",
   "name": "python",
   "nbconvert_exporter": "python",
   "pygments_lexer": "ipython3",
   "version": "3.7.4"
  },
  "toc": {
   "base_numbering": 1,
   "nav_menu": {},
   "number_sections": true,
   "sideBar": true,
   "skip_h1_title": false,
   "title_cell": "Table of Contents",
   "title_sidebar": "Contents",
   "toc_cell": false,
   "toc_position": {},
   "toc_section_display": true,
   "toc_window_display": false
  },
  "varInspector": {
   "cols": {
    "lenName": 16,
    "lenType": 16,
    "lenVar": 40
   },
   "kernels_config": {
    "python": {
     "delete_cmd_postfix": "",
     "delete_cmd_prefix": "del ",
     "library": "var_list.py",
     "varRefreshCmd": "print(var_dic_list())"
    },
    "r": {
     "delete_cmd_postfix": ") ",
     "delete_cmd_prefix": "rm(",
     "library": "var_list.r",
     "varRefreshCmd": "cat(var_dic_list()) "
    }
   },
   "types_to_exclude": [
    "module",
    "function",
    "builtin_function_or_method",
    "instance",
    "_Feature"
   ],
   "window_display": false
  }
 },
 "nbformat": 4,
 "nbformat_minor": 1
}
