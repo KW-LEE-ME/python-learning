{
 "cells": [
  {
   "cell_type": "markdown",
   "metadata": {},
   "source": [
    "# Occupation"
   ]
  },
  {
   "cell_type": "markdown",
   "metadata": {},
   "source": [
    "### Introduction:\n",
    "\n",
    "Special thanks to: https://github.com/justmarkham for sharing the dataset and materials.\n",
    "\n",
    "### Step 1. Import the necessary libraries"
   ]
  },
  {
   "cell_type": "code",
   "execution_count": 1,
   "metadata": {},
   "outputs": [],
   "source": [
    "import numpy as np\n",
    "import pandas as pd"
   ]
  },
  {
   "cell_type": "markdown",
   "metadata": {},
   "source": [
    "### Step 2. Import the dataset from this [address](https://raw.githubusercontent.com/justmarkham/DAT8/master/data/u.user). "
   ]
  },
  {
   "cell_type": "markdown",
   "metadata": {},
   "source": [
    "### Step 3. Assign it to a variable called users."
   ]
  },
  {
   "cell_type": "code",
   "execution_count": 2,
   "metadata": {},
   "outputs": [],
   "source": [
    "users = pd.read_csv(r\"E:\\github_repo\\python-learning\\pandas_exercises_with_data\\data\\u.user\", sep='|', index_col='user_id')"
   ]
  },
  {
   "cell_type": "code",
   "execution_count": 7,
   "metadata": {},
   "outputs": [
    {
     "data": {
      "text/html": "<div>\n<style scoped>\n    .dataframe tbody tr th:only-of-type {\n        vertical-align: middle;\n    }\n\n    .dataframe tbody tr th {\n        vertical-align: top;\n    }\n\n    .dataframe thead th {\n        text-align: right;\n    }\n</style>\n<table border=\"1\" class=\"dataframe\">\n  <thead>\n    <tr style=\"text-align: right;\">\n      <th></th>\n      <th>age</th>\n      <th>gender</th>\n      <th>occupation</th>\n      <th>zip_code</th>\n      <th>gender_</th>\n    </tr>\n    <tr>\n      <th>user_id</th>\n      <th></th>\n      <th></th>\n      <th></th>\n      <th></th>\n      <th></th>\n    </tr>\n  </thead>\n  <tbody>\n    <tr>\n      <td>1</td>\n      <td>24</td>\n      <td>M</td>\n      <td>technician</td>\n      <td>85711</td>\n      <td>1</td>\n    </tr>\n    <tr>\n      <td>2</td>\n      <td>53</td>\n      <td>F</td>\n      <td>other</td>\n      <td>94043</td>\n      <td>0</td>\n    </tr>\n    <tr>\n      <td>3</td>\n      <td>23</td>\n      <td>M</td>\n      <td>writer</td>\n      <td>32067</td>\n      <td>1</td>\n    </tr>\n    <tr>\n      <td>4</td>\n      <td>24</td>\n      <td>M</td>\n      <td>technician</td>\n      <td>43537</td>\n      <td>1</td>\n    </tr>\n    <tr>\n      <td>5</td>\n      <td>33</td>\n      <td>F</td>\n      <td>other</td>\n      <td>15213</td>\n      <td>0</td>\n    </tr>\n  </tbody>\n</table>\n</div>",
      "text/plain": "         age gender  occupation zip_code  gender_\nuser_id                                          \n1         24      M  technician    85711        1\n2         53      F       other    94043        0\n3         23      M      writer    32067        1\n4         24      M  technician    43537        1\n5         33      F       other    15213        0"
     },
     "execution_count": 7,
     "metadata": {},
     "output_type": "execute_result"
    }
   ],
   "source": [
    "users.head()"
   ]
  },
  {
   "cell_type": "markdown",
   "metadata": {},
   "source": [
    "### Step 4. Discover what is the mean age per occupation"
   ]
  },
  {
   "cell_type": "code",
   "execution_count": 4,
   "metadata": {},
   "outputs": [
    {
     "data": {
      "text/html": "<div>\n<style scoped>\n    .dataframe tbody tr th:only-of-type {\n        vertical-align: middle;\n    }\n\n    .dataframe tbody tr th {\n        vertical-align: top;\n    }\n\n    .dataframe thead th {\n        text-align: right;\n    }\n</style>\n<table border=\"1\" class=\"dataframe\">\n  <thead>\n    <tr style=\"text-align: right;\">\n      <th></th>\n      <th>age</th>\n    </tr>\n    <tr>\n      <th>occupation</th>\n      <th></th>\n    </tr>\n  </thead>\n  <tbody>\n    <tr>\n      <td>administrator</td>\n      <td>38.746835</td>\n    </tr>\n    <tr>\n      <td>artist</td>\n      <td>31.392857</td>\n    </tr>\n    <tr>\n      <td>doctor</td>\n      <td>43.571429</td>\n    </tr>\n    <tr>\n      <td>educator</td>\n      <td>42.010526</td>\n    </tr>\n    <tr>\n      <td>engineer</td>\n      <td>36.388060</td>\n    </tr>\n    <tr>\n      <td>entertainment</td>\n      <td>29.222222</td>\n    </tr>\n    <tr>\n      <td>executive</td>\n      <td>38.718750</td>\n    </tr>\n    <tr>\n      <td>healthcare</td>\n      <td>41.562500</td>\n    </tr>\n    <tr>\n      <td>homemaker</td>\n      <td>32.571429</td>\n    </tr>\n    <tr>\n      <td>lawyer</td>\n      <td>36.750000</td>\n    </tr>\n    <tr>\n      <td>librarian</td>\n      <td>40.000000</td>\n    </tr>\n    <tr>\n      <td>marketing</td>\n      <td>37.615385</td>\n    </tr>\n    <tr>\n      <td>none</td>\n      <td>26.555556</td>\n    </tr>\n    <tr>\n      <td>other</td>\n      <td>34.523810</td>\n    </tr>\n    <tr>\n      <td>programmer</td>\n      <td>33.121212</td>\n    </tr>\n    <tr>\n      <td>retired</td>\n      <td>63.071429</td>\n    </tr>\n    <tr>\n      <td>salesman</td>\n      <td>35.666667</td>\n    </tr>\n    <tr>\n      <td>scientist</td>\n      <td>35.548387</td>\n    </tr>\n    <tr>\n      <td>student</td>\n      <td>22.081633</td>\n    </tr>\n    <tr>\n      <td>technician</td>\n      <td>33.148148</td>\n    </tr>\n    <tr>\n      <td>writer</td>\n      <td>36.311111</td>\n    </tr>\n  </tbody>\n</table>\n</div>",
      "text/plain": "                     age\noccupation              \nadministrator  38.746835\nartist         31.392857\ndoctor         43.571429\neducator       42.010526\nengineer       36.388060\nentertainment  29.222222\nexecutive      38.718750\nhealthcare     41.562500\nhomemaker      32.571429\nlawyer         36.750000\nlibrarian      40.000000\nmarketing      37.615385\nnone           26.555556\nother          34.523810\nprogrammer     33.121212\nretired        63.071429\nsalesman       35.666667\nscientist      35.548387\nstudent        22.081633\ntechnician     33.148148\nwriter         36.311111"
     },
     "execution_count": 4,
     "metadata": {},
     "output_type": "execute_result"
    }
   ],
   "source": [
    "grouped = users.groupby(\"occupation\")\n",
    "grouped.mean()"
   ]
  },
  {
   "cell_type": "markdown",
   "metadata": {},
   "source": [
    "### Step 5. Discover the Male ratio per occupation and sort it from the most to the least"
   ]
  },
  {
   "cell_type": "code",
   "execution_count": 5,
   "metadata": {},
   "outputs": [],
   "source": [
    "def func(x):\n",
    "    if x == 'M':\n",
    "        return 1\n",
    "    else:\n",
    "        return 0\n",
    "users['gender_'] = users['gender'].apply(func)"
   ]
  },
  {
   "cell_type": "code",
   "execution_count": 6,
   "metadata": {},
   "outputs": [
    {
     "data": {
      "text/plain": "occupation\ndoctor           1.000000\nengineer         0.970149\ntechnician       0.962963\nretired          0.928571\nprogrammer       0.909091\nexecutive        0.906250\nscientist        0.903226\nentertainment    0.888889\nlawyer           0.833333\nsalesman         0.750000\neducator         0.726316\nstudent          0.693878\nother            0.657143\nmarketing        0.615385\nwriter           0.577778\nnone             0.555556\nadministrator    0.544304\nartist           0.535714\nlibrarian        0.431373\nhealthcare       0.312500\nhomemaker        0.142857\nName: gender_, dtype: float64"
     },
     "execution_count": 6,
     "metadata": {},
     "output_type": "execute_result"
    }
   ],
   "source": [
    "grouped['gender_'].mean().sort_values(ascending=False)"
   ]
  },
  {
   "cell_type": "markdown",
   "metadata": {},
   "source": [
    "### Step 6. For each occupation, calculate the minimum and maximum ages"
   ]
  },
  {
   "cell_type": "code",
   "execution_count": 8,
   "metadata": {},
   "outputs": [
    {
     "data": {
      "text/html": "<div>\n<style scoped>\n    .dataframe tbody tr th:only-of-type {\n        vertical-align: middle;\n    }\n\n    .dataframe tbody tr th {\n        vertical-align: top;\n    }\n\n    .dataframe thead th {\n        text-align: right;\n    }\n</style>\n<table border=\"1\" class=\"dataframe\">\n  <thead>\n    <tr style=\"text-align: right;\">\n      <th></th>\n      <th>max</th>\n      <th>min</th>\n    </tr>\n    <tr>\n      <th>occupation</th>\n      <th></th>\n      <th></th>\n    </tr>\n  </thead>\n  <tbody>\n    <tr>\n      <td>administrator</td>\n      <td>70</td>\n      <td>21</td>\n    </tr>\n    <tr>\n      <td>artist</td>\n      <td>48</td>\n      <td>19</td>\n    </tr>\n    <tr>\n      <td>doctor</td>\n      <td>64</td>\n      <td>28</td>\n    </tr>\n    <tr>\n      <td>educator</td>\n      <td>63</td>\n      <td>23</td>\n    </tr>\n    <tr>\n      <td>engineer</td>\n      <td>70</td>\n      <td>22</td>\n    </tr>\n    <tr>\n      <td>entertainment</td>\n      <td>50</td>\n      <td>15</td>\n    </tr>\n    <tr>\n      <td>executive</td>\n      <td>69</td>\n      <td>22</td>\n    </tr>\n    <tr>\n      <td>healthcare</td>\n      <td>62</td>\n      <td>22</td>\n    </tr>\n    <tr>\n      <td>homemaker</td>\n      <td>50</td>\n      <td>20</td>\n    </tr>\n    <tr>\n      <td>lawyer</td>\n      <td>53</td>\n      <td>21</td>\n    </tr>\n    <tr>\n      <td>librarian</td>\n      <td>69</td>\n      <td>23</td>\n    </tr>\n    <tr>\n      <td>marketing</td>\n      <td>55</td>\n      <td>24</td>\n    </tr>\n    <tr>\n      <td>none</td>\n      <td>55</td>\n      <td>11</td>\n    </tr>\n    <tr>\n      <td>other</td>\n      <td>64</td>\n      <td>13</td>\n    </tr>\n    <tr>\n      <td>programmer</td>\n      <td>63</td>\n      <td>20</td>\n    </tr>\n    <tr>\n      <td>retired</td>\n      <td>73</td>\n      <td>51</td>\n    </tr>\n    <tr>\n      <td>salesman</td>\n      <td>66</td>\n      <td>18</td>\n    </tr>\n    <tr>\n      <td>scientist</td>\n      <td>55</td>\n      <td>23</td>\n    </tr>\n    <tr>\n      <td>student</td>\n      <td>42</td>\n      <td>7</td>\n    </tr>\n    <tr>\n      <td>technician</td>\n      <td>55</td>\n      <td>21</td>\n    </tr>\n    <tr>\n      <td>writer</td>\n      <td>60</td>\n      <td>18</td>\n    </tr>\n  </tbody>\n</table>\n</div>",
      "text/plain": "               max  min\noccupation             \nadministrator   70   21\nartist          48   19\ndoctor          64   28\neducator        63   23\nengineer        70   22\nentertainment   50   15\nexecutive       69   22\nhealthcare      62   22\nhomemaker       50   20\nlawyer          53   21\nlibrarian       69   23\nmarketing       55   24\nnone            55   11\nother           64   13\nprogrammer      63   20\nretired         73   51\nsalesman        66   18\nscientist       55   23\nstudent         42    7\ntechnician      55   21\nwriter          60   18"
     },
     "execution_count": 8,
     "metadata": {},
     "output_type": "execute_result"
    }
   ],
   "source": [
    "grouped['age'].agg([max, min])"
   ]
  },
  {
   "cell_type": "markdown",
   "metadata": {},
   "source": [
    "### Step 7. For each combination of occupation and gender, calculate the mean age"
   ]
  },
  {
   "cell_type": "code",
   "execution_count": 11,
   "metadata": {},
   "outputs": [
    {
     "data": {
      "text/plain": "occupation     gender\nadministrator  F         40.638889\n               M         37.162791\nartist         F         30.307692\n               M         32.333333\ndoctor         M         43.571429\neducator       F         39.115385\n               M         43.101449\nengineer       F         29.500000\n               M         36.600000\nentertainment  F         31.000000\n               M         29.000000\nexecutive      F         44.000000\n               M         38.172414\nhealthcare     F         39.818182\n               M         45.400000\nhomemaker      F         34.166667\n               M         23.000000\nlawyer         F         39.500000\n               M         36.200000\nlibrarian      F         40.000000\n               M         40.000000\nmarketing      F         37.200000\n               M         37.875000\nnone           F         36.500000\n               M         18.600000\nother          F         35.472222\n               M         34.028986\nprogrammer     F         32.166667\n               M         33.216667\nretired        F         70.000000\n               M         62.538462\nsalesman       F         27.000000\n               M         38.555556\nscientist      F         28.333333\n               M         36.321429\nstudent        F         20.750000\n               M         22.669118\ntechnician     F         38.000000\n               M         32.961538\nwriter         F         37.631579\n               M         35.346154\nName: age, dtype: float64"
     },
     "execution_count": 11,
     "metadata": {},
     "output_type": "execute_result"
    }
   ],
   "source": [
    "users['age'].groupby([users['occupation'], users['gender']]).mean()"
   ]
  },
  {
   "cell_type": "markdown",
   "metadata": {},
   "source": [
    "### Step 8.  For each occupation present the percentage of women and men"
   ]
  },
  {
   "cell_type": "code",
   "execution_count": 20,
   "metadata": {},
   "outputs": [
    {
     "data": {
      "text/plain": "occupation     gender\nadministrator  F          45.569620\n               M          54.430380\nartist         F          46.428571\n               M          53.571429\ndoctor         M         100.000000\neducator       F          27.368421\n               M          72.631579\nengineer       F           2.985075\n               M          97.014925\nentertainment  F          11.111111\n               M          88.888889\nexecutive      F           9.375000\n               M          90.625000\nhealthcare     F          68.750000\n               M          31.250000\nhomemaker      F          85.714286\n               M          14.285714\nlawyer         F          16.666667\n               M          83.333333\nlibrarian      F          56.862745\n               M          43.137255\nmarketing      F          38.461538\n               M          61.538462\nnone           F          44.444444\n               M          55.555556\nother          F          34.285714\n               M          65.714286\nprogrammer     F           9.090909\n               M          90.909091\nretired        F           7.142857\n               M          92.857143\nsalesman       F          25.000000\n               M          75.000000\nscientist      F           9.677419\n               M          90.322581\nstudent        F          30.612245\n               M          69.387755\ntechnician     F           3.703704\n               M          96.296296\nwriter         F          42.222222\n               M          57.777778\nName: gender, dtype: float64"
     },
     "execution_count": 20,
     "metadata": {},
     "output_type": "execute_result"
    }
   ],
   "source": [
    "gender_occ = users.groupby(['occupation', 'gender']).agg({'gender':'count'})\n",
    "occ_count = users['gender'].groupby(['occupation']).agg('count')\n",
    "occ_gender = gender_occ.div(occup_count, level = \"occupation\") * 100\n",
    "occ_gender['gender']"
   ]
  },
  {
   "cell_type": "code",
   "execution_count": null,
   "metadata": {},
   "outputs": [],
   "source": []
  }
 ],
 "metadata": {
  "kernelspec": {
   "display_name": "Python 3",
   "language": "python",
   "name": "python3"
  },
  "language_info": {
   "codemirror_mode": {
    "name": "ipython",
    "version": 2
   },
   "file_extension": ".py",
   "mimetype": "text/x-python",
   "name": "python",
   "nbconvert_exporter": "python",
   "pygments_lexer": "ipython2",
   "version": "3.7.4-final"
  }
 },
 "nbformat": 4,
 "nbformat_minor": 0
}