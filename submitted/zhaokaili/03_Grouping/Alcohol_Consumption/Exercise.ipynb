{
 "cells": [
  {
   "cell_type": "markdown",
   "metadata": {},
   "source": [
    "# Ex - GroupBy"
   ]
  },
  {
   "cell_type": "markdown",
   "metadata": {},
   "source": [
    "### Introduction:\n",
    "\n",
    "GroupBy can be summarizes as Split-Apply-Combine.\n",
    "\n",
    "Special thanks to: https://github.com/justmarkham for sharing the dataset and materials.\n",
    "\n",
    "Check out this [Diagram](http://i.imgur.com/yjNkiwL.png)  \n",
    "### Step 1. Import the necessary libraries"
   ]
  },
  {
   "cell_type": "code",
   "execution_count": 1,
   "metadata": {},
   "outputs": [],
   "source": [
    "import pandas as pd\n",
    "import numpy as np"
   ]
  },
  {
   "cell_type": "markdown",
   "metadata": {},
   "source": [
    "### Step 2. Import the dataset from this [address](https://raw.githubusercontent.com/justmarkham/DAT8/master/data/drinks.csv). "
   ]
  },
  {
   "cell_type": "markdown",
   "metadata": {},
   "source": [
    "### Step 3. Assign it to a variable called drinks."
   ]
  },
  {
   "cell_type": "code",
   "execution_count": 2,
   "metadata": {},
   "outputs": [],
   "source": [
    "drinks = pd.read_csv(r\"E:\\github_repo\\python-learning\\pandas_exercises_with_data\\data\\drinks.csv\")"
   ]
  },
  {
   "cell_type": "code",
   "execution_count": 3,
   "metadata": {},
   "outputs": [
    {
     "data": {
      "text/html": "<div>\n<style scoped>\n    .dataframe tbody tr th:only-of-type {\n        vertical-align: middle;\n    }\n\n    .dataframe tbody tr th {\n        vertical-align: top;\n    }\n\n    .dataframe thead th {\n        text-align: right;\n    }\n</style>\n<table border=\"1\" class=\"dataframe\">\n  <thead>\n    <tr style=\"text-align: right;\">\n      <th></th>\n      <th>country</th>\n      <th>beer_servings</th>\n      <th>spirit_servings</th>\n      <th>wine_servings</th>\n      <th>total_litres_of_pure_alcohol</th>\n      <th>continent</th>\n    </tr>\n  </thead>\n  <tbody>\n    <tr>\n      <td>0</td>\n      <td>Afghanistan</td>\n      <td>0</td>\n      <td>0</td>\n      <td>0</td>\n      <td>0.0</td>\n      <td>AS</td>\n    </tr>\n    <tr>\n      <td>1</td>\n      <td>Albania</td>\n      <td>89</td>\n      <td>132</td>\n      <td>54</td>\n      <td>4.9</td>\n      <td>EU</td>\n    </tr>\n    <tr>\n      <td>2</td>\n      <td>Algeria</td>\n      <td>25</td>\n      <td>0</td>\n      <td>14</td>\n      <td>0.7</td>\n      <td>AF</td>\n    </tr>\n    <tr>\n      <td>3</td>\n      <td>Andorra</td>\n      <td>245</td>\n      <td>138</td>\n      <td>312</td>\n      <td>12.4</td>\n      <td>EU</td>\n    </tr>\n    <tr>\n      <td>4</td>\n      <td>Angola</td>\n      <td>217</td>\n      <td>57</td>\n      <td>45</td>\n      <td>5.9</td>\n      <td>AF</td>\n    </tr>\n  </tbody>\n</table>\n</div>",
      "text/plain": "       country  beer_servings  spirit_servings  wine_servings  \\\n0  Afghanistan              0                0              0   \n1      Albania             89              132             54   \n2      Algeria             25                0             14   \n3      Andorra            245              138            312   \n4       Angola            217               57             45   \n\n   total_litres_of_pure_alcohol continent  \n0                           0.0        AS  \n1                           4.9        EU  \n2                           0.7        AF  \n3                          12.4        EU  \n4                           5.9        AF  "
     },
     "execution_count": 3,
     "metadata": {},
     "output_type": "execute_result"
    }
   ],
   "source": [
    "drinks.head()"
   ]
  },
  {
   "cell_type": "markdown",
   "metadata": {},
   "source": [
    "### Step 4. Which continent drinks more beer on average?"
   ]
  },
  {
   "cell_type": "code",
   "execution_count": 17,
   "metadata": {},
   "outputs": [
    {
     "name": "stderr",
     "output_type": "stream",
     "text": "C:\\Anaconda3\\lib\\site-packages\\ipykernel_launcher.py:1: FutureWarning: \nThe current behaviour of 'Series.argmax' is deprecated, use 'idxmax'\ninstead.\nThe behavior of 'argmax' will be corrected to return the positional\nmaximum in the future. For now, use 'series.values.argmax' or\n'np.argmax(np.array(values))' to get the position of the maximum\nrow.\n  \"\"\"Entry point for launching an IPython kernel.\n"
    },
    {
     "data": {
      "text/plain": "'EU'"
     },
     "execution_count": 17,
     "metadata": {},
     "output_type": "execute_result"
    }
   ],
   "source": [
    "grouped = drinks.groupby(\"continent\")\n",
    "grouped.mean()[\"beer_servings\"].argmax()"
   ]
  },
  {
   "cell_type": "markdown",
   "metadata": {},
   "source": [
    "### Step 5. For each continent print the statistics for wine consumption."
   ]
  },
  {
   "cell_type": "code",
   "execution_count": 25,
   "metadata": {},
   "outputs": [
    {
     "data": {
      "text/plain": "continent\nAF     862\nAS     399\nEU    6400\nOC     570\nSA     749\nName: wine_servings, dtype: int64"
     },
     "execution_count": 25,
     "metadata": {},
     "output_type": "execute_result"
    }
   ],
   "source": [
    "grouped.sum()[\"wine_servings\"]"
   ]
  },
  {
   "cell_type": "markdown",
   "metadata": {},
   "source": [
    "### Step 6. Print the mean alcohol consumption per continent for every column"
   ]
  },
  {
   "cell_type": "code",
   "execution_count": 27,
   "metadata": {},
   "outputs": [
    {
     "data": {
      "text/html": "<div>\n<style scoped>\n    .dataframe tbody tr th:only-of-type {\n        vertical-align: middle;\n    }\n\n    .dataframe tbody tr th {\n        vertical-align: top;\n    }\n\n    .dataframe thead th {\n        text-align: right;\n    }\n</style>\n<table border=\"1\" class=\"dataframe\">\n  <thead>\n    <tr style=\"text-align: right;\">\n      <th></th>\n      <th>beer_servings</th>\n      <th>spirit_servings</th>\n      <th>wine_servings</th>\n      <th>total_litres_of_pure_alcohol</th>\n    </tr>\n    <tr>\n      <th>continent</th>\n      <th></th>\n      <th></th>\n      <th></th>\n      <th></th>\n    </tr>\n  </thead>\n  <tbody>\n    <tr>\n      <td>AF</td>\n      <td>61.471698</td>\n      <td>16.339623</td>\n      <td>16.264151</td>\n      <td>3.007547</td>\n    </tr>\n    <tr>\n      <td>AS</td>\n      <td>37.045455</td>\n      <td>60.840909</td>\n      <td>9.068182</td>\n      <td>2.170455</td>\n    </tr>\n    <tr>\n      <td>EU</td>\n      <td>193.777778</td>\n      <td>132.555556</td>\n      <td>142.222222</td>\n      <td>8.617778</td>\n    </tr>\n    <tr>\n      <td>OC</td>\n      <td>89.687500</td>\n      <td>58.437500</td>\n      <td>35.625000</td>\n      <td>3.381250</td>\n    </tr>\n    <tr>\n      <td>SA</td>\n      <td>175.083333</td>\n      <td>114.750000</td>\n      <td>62.416667</td>\n      <td>6.308333</td>\n    </tr>\n  </tbody>\n</table>\n</div>",
      "text/plain": "           beer_servings  spirit_servings  wine_servings  \\\ncontinent                                                  \nAF             61.471698        16.339623      16.264151   \nAS             37.045455        60.840909       9.068182   \nEU            193.777778       132.555556     142.222222   \nOC             89.687500        58.437500      35.625000   \nSA            175.083333       114.750000      62.416667   \n\n           total_litres_of_pure_alcohol  \ncontinent                                \nAF                             3.007547  \nAS                             2.170455  \nEU                             8.617778  \nOC                             3.381250  \nSA                             6.308333  "
     },
     "execution_count": 27,
     "metadata": {},
     "output_type": "execute_result"
    }
   ],
   "source": [
    "grouped.mean()"
   ]
  },
  {
   "cell_type": "markdown",
   "metadata": {},
   "source": [
    "### Step 7. Print the median alcohol consumption per continent for every column"
   ]
  },
  {
   "cell_type": "code",
   "execution_count": 28,
   "metadata": {},
   "outputs": [
    {
     "data": {
      "text/html": "<div>\n<style scoped>\n    .dataframe tbody tr th:only-of-type {\n        vertical-align: middle;\n    }\n\n    .dataframe tbody tr th {\n        vertical-align: top;\n    }\n\n    .dataframe thead th {\n        text-align: right;\n    }\n</style>\n<table border=\"1\" class=\"dataframe\">\n  <thead>\n    <tr style=\"text-align: right;\">\n      <th></th>\n      <th>beer_servings</th>\n      <th>spirit_servings</th>\n      <th>wine_servings</th>\n      <th>total_litres_of_pure_alcohol</th>\n    </tr>\n    <tr>\n      <th>continent</th>\n      <th></th>\n      <th></th>\n      <th></th>\n      <th></th>\n    </tr>\n  </thead>\n  <tbody>\n    <tr>\n      <td>AF</td>\n      <td>32.0</td>\n      <td>3.0</td>\n      <td>2.0</td>\n      <td>2.30</td>\n    </tr>\n    <tr>\n      <td>AS</td>\n      <td>17.5</td>\n      <td>16.0</td>\n      <td>1.0</td>\n      <td>1.20</td>\n    </tr>\n    <tr>\n      <td>EU</td>\n      <td>219.0</td>\n      <td>122.0</td>\n      <td>128.0</td>\n      <td>10.00</td>\n    </tr>\n    <tr>\n      <td>OC</td>\n      <td>52.5</td>\n      <td>37.0</td>\n      <td>8.5</td>\n      <td>1.75</td>\n    </tr>\n    <tr>\n      <td>SA</td>\n      <td>162.5</td>\n      <td>108.5</td>\n      <td>12.0</td>\n      <td>6.85</td>\n    </tr>\n  </tbody>\n</table>\n</div>",
      "text/plain": "           beer_servings  spirit_servings  wine_servings  \\\ncontinent                                                  \nAF                  32.0              3.0            2.0   \nAS                  17.5             16.0            1.0   \nEU                 219.0            122.0          128.0   \nOC                  52.5             37.0            8.5   \nSA                 162.5            108.5           12.0   \n\n           total_litres_of_pure_alcohol  \ncontinent                                \nAF                                 2.30  \nAS                                 1.20  \nEU                                10.00  \nOC                                 1.75  \nSA                                 6.85  "
     },
     "execution_count": 28,
     "metadata": {},
     "output_type": "execute_result"
    }
   ],
   "source": [
    "grouped.median()"
   ]
  },
  {
   "cell_type": "markdown",
   "metadata": {},
   "source": [
    "### Step 8. Print the mean, min and max values for spirit consumption.\n",
    "#### This time output a DataFrame"
   ]
  },
  {
   "cell_type": "code",
   "execution_count": 32,
   "metadata": {},
   "outputs": [
    {
     "data": {
      "text/html": "<div>\n<style scoped>\n    .dataframe tbody tr th:only-of-type {\n        vertical-align: middle;\n    }\n\n    .dataframe tbody tr th {\n        vertical-align: top;\n    }\n\n    .dataframe thead tr th {\n        text-align: left;\n    }\n\n    .dataframe thead tr:last-of-type th {\n        text-align: right;\n    }\n</style>\n<table border=\"1\" class=\"dataframe\">\n  <thead>\n    <tr>\n      <th></th>\n      <th colspan=\"3\" halign=\"left\">beer_servings</th>\n      <th colspan=\"3\" halign=\"left\">spirit_servings</th>\n      <th colspan=\"3\" halign=\"left\">wine_servings</th>\n      <th colspan=\"3\" halign=\"left\">total_litres_of_pure_alcohol</th>\n    </tr>\n    <tr>\n      <th></th>\n      <th>mean</th>\n      <th>min</th>\n      <th>max</th>\n      <th>mean</th>\n      <th>min</th>\n      <th>max</th>\n      <th>mean</th>\n      <th>min</th>\n      <th>max</th>\n      <th>mean</th>\n      <th>min</th>\n      <th>max</th>\n    </tr>\n    <tr>\n      <th>continent</th>\n      <th></th>\n      <th></th>\n      <th></th>\n      <th></th>\n      <th></th>\n      <th></th>\n      <th></th>\n      <th></th>\n      <th></th>\n      <th></th>\n      <th></th>\n      <th></th>\n    </tr>\n  </thead>\n  <tbody>\n    <tr>\n      <td>AF</td>\n      <td>61.471698</td>\n      <td>0</td>\n      <td>376</td>\n      <td>16.339623</td>\n      <td>0</td>\n      <td>152</td>\n      <td>16.264151</td>\n      <td>0</td>\n      <td>233</td>\n      <td>3.007547</td>\n      <td>0.0</td>\n      <td>9.1</td>\n    </tr>\n    <tr>\n      <td>AS</td>\n      <td>37.045455</td>\n      <td>0</td>\n      <td>247</td>\n      <td>60.840909</td>\n      <td>0</td>\n      <td>326</td>\n      <td>9.068182</td>\n      <td>0</td>\n      <td>123</td>\n      <td>2.170455</td>\n      <td>0.0</td>\n      <td>11.5</td>\n    </tr>\n    <tr>\n      <td>EU</td>\n      <td>193.777778</td>\n      <td>0</td>\n      <td>361</td>\n      <td>132.555556</td>\n      <td>0</td>\n      <td>373</td>\n      <td>142.222222</td>\n      <td>0</td>\n      <td>370</td>\n      <td>8.617778</td>\n      <td>0.0</td>\n      <td>14.4</td>\n    </tr>\n    <tr>\n      <td>OC</td>\n      <td>89.687500</td>\n      <td>0</td>\n      <td>306</td>\n      <td>58.437500</td>\n      <td>0</td>\n      <td>254</td>\n      <td>35.625000</td>\n      <td>0</td>\n      <td>212</td>\n      <td>3.381250</td>\n      <td>0.0</td>\n      <td>10.4</td>\n    </tr>\n    <tr>\n      <td>SA</td>\n      <td>175.083333</td>\n      <td>93</td>\n      <td>333</td>\n      <td>114.750000</td>\n      <td>25</td>\n      <td>302</td>\n      <td>62.416667</td>\n      <td>1</td>\n      <td>221</td>\n      <td>6.308333</td>\n      <td>3.8</td>\n      <td>8.3</td>\n    </tr>\n  </tbody>\n</table>\n</div>",
      "text/plain": "          beer_servings          spirit_servings          wine_servings      \\\n                   mean min  max            mean min  max          mean min   \ncontinent                                                                     \nAF            61.471698   0  376       16.339623   0  152     16.264151   0   \nAS            37.045455   0  247       60.840909   0  326      9.068182   0   \nEU           193.777778   0  361      132.555556   0  373    142.222222   0   \nOC            89.687500   0  306       58.437500   0  254     35.625000   0   \nSA           175.083333  93  333      114.750000  25  302     62.416667   1   \n\n               total_litres_of_pure_alcohol             \n           max                         mean  min   max  \ncontinent                                               \nAF         233                     3.007547  0.0   9.1  \nAS         123                     2.170455  0.0  11.5  \nEU         370                     8.617778  0.0  14.4  \nOC         212                     3.381250  0.0  10.4  \nSA         221                     6.308333  3.8   8.3  "
     },
     "execution_count": 32,
     "metadata": {},
     "output_type": "execute_result"
    }
   ],
   "source": [
    "grouped.agg([np.mean, min, max])"
   ]
  },
  {
   "cell_type": "code",
   "execution_count": null,
   "metadata": {},
   "outputs": [],
   "source": []
  }
 ],
 "metadata": {
  "kernelspec": {
   "display_name": "Python 3.7.4 64-bit ('base': conda)",
   "language": "python",
   "name": "python37464bitbaseconda860125a80b3241dc941c83d04cfe8dc3"
  },
  "language_info": {
   "codemirror_mode": {
    "name": "ipython",
    "version": 2
   },
   "file_extension": ".py",
   "mimetype": "text/x-python",
   "name": "python",
   "nbconvert_exporter": "python",
   "pygments_lexer": "ipython2",
   "version": "3.7.4-final"
  }
 },
 "nbformat": 4,
 "nbformat_minor": 0
}