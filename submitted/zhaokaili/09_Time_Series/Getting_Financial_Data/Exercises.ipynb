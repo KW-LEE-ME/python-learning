{
 "cells": [
  {
   "cell_type": "markdown",
   "metadata": {},
   "source": [
    "# Getting Financial Data - Google Finance"
   ]
  },
  {
   "cell_type": "markdown",
   "metadata": {},
   "source": [
    "### Introduction:\n",
    "\n",
    "This time you will get data from a website.\n",
    "\n",
    "\n",
    "### Step 1. Import the necessary libraries"
   ]
  },
  {
   "cell_type": "code",
   "execution_count": 1,
   "metadata": {},
   "outputs": [],
   "source": [
    "import pandas as pd \n",
    "import numpy as np \n",
    "from datetime import datetime\n",
    "import pandas_datareader.data as web"
   ]
  },
  {
   "cell_type": "markdown",
   "metadata": {},
   "source": [
    "### Step 2. Create your time range (start and end variables). The start date should be 01/01/2015 and the end should today (whatever your today is)"
   ]
  },
  {
   "cell_type": "code",
   "execution_count": 23,
   "metadata": {},
   "outputs": [],
   "source": [
    "start = datetime(2015, 1, 1)\n",
    "end = datetime.today() "
   ]
  },
  {
   "cell_type": "markdown",
   "metadata": {},
   "source": [
    "### Step 3. Select the Apple, Tesla, Twitter, IBM, LinkedIn stocks symbols and assign them to a variable called stocks"
   ]
  },
  {
   "cell_type": "code",
   "execution_count": 10,
   "metadata": {},
   "outputs": [],
   "source": [
    "stocks = ['AAPL', 'TSLA', 'TWTR', 'IBM']#LNKD全部都是NaN"
   ]
  },
  {
   "cell_type": "markdown",
   "metadata": {},
   "source": [
    "### Step 4. Read the data from google, assign to df and print it"
   ]
  },
  {
   "cell_type": "code",
   "execution_count": 24,
   "metadata": {},
   "outputs": [],
   "source": [
    "df = web.DataReader(stocks, 'yahoo', start, end)"
   ]
  },
  {
   "cell_type": "markdown",
   "metadata": {},
   "source": [
    "### Step 5.  What is the type of structure of df ?"
   ]
  },
  {
   "cell_type": "code",
   "execution_count": 12,
   "metadata": {},
   "outputs": [
    {
     "data": {
      "text/plain": "pandas.core.frame.DataFrame"
     },
     "execution_count": 12,
     "metadata": {},
     "output_type": "execute_result"
    }
   ],
   "source": [
    "type(df)"
   ]
  },
  {
   "cell_type": "markdown",
   "metadata": {},
   "source": [
    "### Step 6. Print all the Items axis values\n",
    "#### To learn more about the Panel structure go to [documentation](http://pandas.pydata.org/pandas-docs/stable/dsintro.html#panel) "
   ]
  },
  {
   "cell_type": "code",
   "execution_count": 25,
   "metadata": {},
   "outputs": [
    {
     "data": {
      "text/plain": "<bound method DataFrame.items of Attributes   Adj Close                                          Close  \\\nSymbols           AAPL        TSLA       TWTR         IBM        AAPL   \nDate                                                                    \n2014-12-31  101.178932  222.410004  35.869999  127.949593  110.379997   \n2015-01-02  100.216454  219.309998  36.560001  129.241516  109.330002   \n2015-01-05   97.393181  210.089996  36.380001  127.207932  106.250000   \n2015-01-06   97.402374  211.279999  38.759998  124.464600  106.260002   \n2015-01-07   98.768150  210.949997  37.279999  123.651100  107.750000   \n...                ...         ...        ...         ...         ...   \n2020-02-03  307.929199  780.000000  33.070000  144.758408  308.660004   \n2020-02-04  318.095062  887.059998  33.959999  147.569061  318.850006   \n2020-02-05  320.688934  734.700012  33.389999  154.714447  321.450012   \n2020-02-06  324.440002  748.960022  38.410000  155.139999  325.209991   \n2020-02-07  320.029999  748.070007  37.029999  153.410004  320.029999   \n\nAttributes                                           High              ...  \\\nSymbols           TSLA       TWTR         IBM        AAPL        TSLA  ...   \nDate                                                                   ...   \n2014-12-31  222.410004  35.869999  160.440002  113.129997  225.679993  ...   \n2015-01-02  219.309998  36.560001  162.059998  111.440002  223.250000  ...   \n2015-01-05  210.089996  36.380001  159.509995  108.650002  216.500000  ...   \n2015-01-06  211.279999  38.759998  156.070007  107.430000  214.199997  ...   \n2015-01-07  210.949997  37.279999  155.050003  108.199997  214.779999  ...   \n...                ...        ...         ...         ...         ...  ...   \n2020-02-03  780.000000  33.070000  146.270004  313.489990  786.140015  ...   \n2020-02-04  887.059998  33.959999  149.110001  319.640015  968.989990  ...   \n2020-02-05  734.700012  33.389999  156.330002  324.760010  845.979980  ...   \n2020-02-06  748.960022  38.410000  156.759995  325.220001  795.830017  ...   \n2020-02-07  748.070007  37.029999  153.410004  323.399994  769.750000  ...   \n\nAttributes        Low                    Open                         \\\nSymbols          TWTR         IBM        AAPL        TSLA       TWTR   \nDate                                                                   \n2014-12-31  35.470001  160.380005  112.820000  223.089996  35.889999   \n2015-01-02  35.540001  161.000000  111.389999  222.869995  36.230000   \n2015-01-05  35.639999  159.190002  108.290001  214.550003  36.259998   \n2015-01-06  36.040001  155.169998  106.540001  210.059998  36.270000   \n2015-01-07  37.060001  154.029999  107.199997  213.350006  39.099998   \n...               ...         ...         ...         ...        ...   \n2020-02-03  32.450001  143.899994  304.299988  673.690002  32.560001   \n2020-02-04  33.400002  146.880005  315.309998  882.960022  33.750000   \n2020-02-05  33.189999  150.149994  323.519989  823.260010  34.000000   \n2020-02-06  36.419998  155.419998  322.570007  699.919983  36.529999   \n2020-02-07  36.840000  152.919998  322.369995  730.549988  37.630001   \n\nAttributes                  Volume                                      \nSymbols            IBM        AAPL        TSLA        TWTR         IBM  \nDate                                                                    \n2014-12-31  160.410004  41403400.0   2297500.0  17629400.0   4011900.0  \n2015-01-02  161.309998  53204600.0   4764400.0  12062500.0   5525500.0  \n2015-01-05  161.270004  64285500.0   5368500.0  15062700.0   4880400.0  \n2015-01-06  159.669998  65797100.0   6261900.0  33050800.0   6146700.0  \n2015-01-07  157.199997  40105900.0   2968400.0  22675700.0   4701800.0  \n...                ...         ...         ...         ...         ...  \n2020-02-03  144.250000  43496400.0  47233500.0  14196200.0   8887500.0  \n2020-02-04  147.779999  34154100.0  60938800.0  14598200.0   5621000.0  \n2020-02-05  150.210007  29706700.0  48423800.0  20468200.0  14386800.0  \n2020-02-06  156.820007  26356400.0  39880800.0  87659700.0   8400500.0  \n2020-02-07  154.550003  29357800.0  17041300.0  31112600.0   6414800.0  \n\n[1285 rows x 24 columns]>"
     },
     "execution_count": 25,
     "metadata": {},
     "output_type": "execute_result"
    }
   ],
   "source": [
    "df.items"
   ]
  },
  {
   "cell_type": "markdown",
   "metadata": {},
   "source": [
    "### Step 7. Good, now we know  the data avaiable. Create a dataFrame called vol, with the Volume values."
   ]
  },
  {
   "cell_type": "code",
   "execution_count": 26,
   "metadata": {},
   "outputs": [
    {
     "data": {
      "text/html": "<div>\n<style scoped>\n    .dataframe tbody tr th:only-of-type {\n        vertical-align: middle;\n    }\n\n    .dataframe tbody tr th {\n        vertical-align: top;\n    }\n\n    .dataframe thead th {\n        text-align: right;\n    }\n</style>\n<table border=\"1\" class=\"dataframe\">\n  <thead>\n    <tr style=\"text-align: right;\">\n      <th>Symbols</th>\n      <th>AAPL</th>\n      <th>TSLA</th>\n      <th>TWTR</th>\n      <th>IBM</th>\n    </tr>\n    <tr>\n      <th>Date</th>\n      <th></th>\n      <th></th>\n      <th></th>\n      <th></th>\n    </tr>\n  </thead>\n  <tbody>\n    <tr>\n      <td>2014-12-31</td>\n      <td>41403400.0</td>\n      <td>2297500.0</td>\n      <td>17629400.0</td>\n      <td>4011900.0</td>\n    </tr>\n    <tr>\n      <td>2015-01-02</td>\n      <td>53204600.0</td>\n      <td>4764400.0</td>\n      <td>12062500.0</td>\n      <td>5525500.0</td>\n    </tr>\n    <tr>\n      <td>2015-01-05</td>\n      <td>64285500.0</td>\n      <td>5368500.0</td>\n      <td>15062700.0</td>\n      <td>4880400.0</td>\n    </tr>\n    <tr>\n      <td>2015-01-06</td>\n      <td>65797100.0</td>\n      <td>6261900.0</td>\n      <td>33050800.0</td>\n      <td>6146700.0</td>\n    </tr>\n    <tr>\n      <td>2015-01-07</td>\n      <td>40105900.0</td>\n      <td>2968400.0</td>\n      <td>22675700.0</td>\n      <td>4701800.0</td>\n    </tr>\n  </tbody>\n</table>\n</div>",
      "text/plain": "Symbols           AAPL       TSLA        TWTR        IBM\nDate                                                    \n2014-12-31  41403400.0  2297500.0  17629400.0  4011900.0\n2015-01-02  53204600.0  4764400.0  12062500.0  5525500.0\n2015-01-05  64285500.0  5368500.0  15062700.0  4880400.0\n2015-01-06  65797100.0  6261900.0  33050800.0  6146700.0\n2015-01-07  40105900.0  2968400.0  22675700.0  4701800.0"
     },
     "execution_count": 26,
     "metadata": {},
     "output_type": "execute_result"
    }
   ],
   "source": [
    "vol = df['Volume']\n",
    "vol.head()"
   ]
  },
  {
   "cell_type": "markdown",
   "metadata": {},
   "source": [
    "### Step 8. Aggregate the data of Volume to weekly\n",
    "#### Hint: Be careful to not sum data from the same week of 2015 and other years."
   ]
  },
  {
   "cell_type": "code",
   "execution_count": 27,
   "metadata": {},
   "outputs": [
    {
     "data": {
      "text/html": "<div>\n<style scoped>\n    .dataframe tbody tr th:only-of-type {\n        vertical-align: middle;\n    }\n\n    .dataframe tbody tr th {\n        vertical-align: top;\n    }\n\n    .dataframe thead th {\n        text-align: right;\n    }\n</style>\n<table border=\"1\" class=\"dataframe\">\n  <thead>\n    <tr style=\"text-align: right;\">\n      <th>Symbols</th>\n      <th>AAPL</th>\n      <th>TSLA</th>\n      <th>TWTR</th>\n      <th>IBM</th>\n    </tr>\n    <tr>\n      <th>Date</th>\n      <th></th>\n      <th></th>\n      <th></th>\n      <th></th>\n    </tr>\n  </thead>\n  <tbody>\n    <tr>\n      <td>2015-01-04</td>\n      <td>94608000.0</td>\n      <td>7061900.0</td>\n      <td>29691900.0</td>\n      <td>9537400.0</td>\n    </tr>\n    <tr>\n      <td>2015-01-11</td>\n      <td>283252500.0</td>\n      <td>22709600.0</td>\n      <td>114718000.0</td>\n      <td>24454000.0</td>\n    </tr>\n    <tr>\n      <td>2015-01-18</td>\n      <td>304226600.0</td>\n      <td>30799200.0</td>\n      <td>100097300.0</td>\n      <td>23259800.0</td>\n    </tr>\n    <tr>\n      <td>2015-01-25</td>\n      <td>198737000.0</td>\n      <td>16211700.0</td>\n      <td>66713900.0</td>\n      <td>31244800.0</td>\n    </tr>\n    <tr>\n      <td>2015-02-01</td>\n      <td>465842700.0</td>\n      <td>15720200.0</td>\n      <td>87430900.0</td>\n      <td>32928000.0</td>\n    </tr>\n    <tr>\n      <td>...</td>\n      <td>...</td>\n      <td>...</td>\n      <td>...</td>\n      <td>...</td>\n    </tr>\n    <tr>\n      <td>2020-01-12</td>\n      <td>167522900.0</td>\n      <td>100559300.0</td>\n      <td>62942200.0</td>\n      <td>16848300.0</td>\n    </tr>\n    <tr>\n      <td>2020-01-19</td>\n      <td>163013900.0</td>\n      <td>108248400.0</td>\n      <td>71301200.0</td>\n      <td>21202100.0</td>\n    </tr>\n    <tr>\n      <td>2020-01-26</td>\n      <td>115921300.0</td>\n      <td>83177100.0</td>\n      <td>57131200.0</td>\n      <td>34952500.0</td>\n    </tr>\n    <tr>\n      <td>2020-02-02</td>\n      <td>216683700.0</td>\n      <td>87923100.0</td>\n      <td>53220800.0</td>\n      <td>34724500.0</td>\n    </tr>\n    <tr>\n      <td>2020-02-09</td>\n      <td>163071400.0</td>\n      <td>213518200.0</td>\n      <td>168034900.0</td>\n      <td>43710600.0</td>\n    </tr>\n  </tbody>\n</table>\n<p>267 rows × 4 columns</p>\n</div>",
      "text/plain": "Symbols            AAPL         TSLA         TWTR         IBM\nDate                                                         \n2015-01-04   94608000.0    7061900.0   29691900.0   9537400.0\n2015-01-11  283252500.0   22709600.0  114718000.0  24454000.0\n2015-01-18  304226600.0   30799200.0  100097300.0  23259800.0\n2015-01-25  198737000.0   16211700.0   66713900.0  31244800.0\n2015-02-01  465842700.0   15720200.0   87430900.0  32928000.0\n...                 ...          ...          ...         ...\n2020-01-12  167522900.0  100559300.0   62942200.0  16848300.0\n2020-01-19  163013900.0  108248400.0   71301200.0  21202100.0\n2020-01-26  115921300.0   83177100.0   57131200.0  34952500.0\n2020-02-02  216683700.0   87923100.0   53220800.0  34724500.0\n2020-02-09  163071400.0  213518200.0  168034900.0  43710600.0\n\n[267 rows x 4 columns]"
     },
     "execution_count": 27,
     "metadata": {},
     "output_type": "execute_result"
    }
   ],
   "source": [
    "vol.resample('W').sum()"
   ]
  },
  {
   "cell_type": "markdown",
   "metadata": {},
   "source": [
    "### Step 9. Find all the volume traded in the year of 2015"
   ]
  },
  {
   "cell_type": "code",
   "execution_count": 30,
   "metadata": {},
   "outputs": [
    {
     "name": "stderr",
     "output_type": "stream",
     "text": "C:\\Anaconda3\\lib\\site-packages\\ipykernel_launcher.py:1: SettingWithCopyWarning: \nA value is trying to be set on a copy of a slice from a DataFrame.\nTry using .loc[row_indexer,col_indexer] = value instead\n\nSee the caveats in the documentation: http://pandas.pydata.org/pandas-docs/stable/user_guide/indexing.html#returning-a-view-versus-a-copy\n  \"\"\"Entry point for launching an IPython kernel.\n"
    },
    {
     "data": {
      "text/html": "<div>\n<style scoped>\n    .dataframe tbody tr th:only-of-type {\n        vertical-align: middle;\n    }\n\n    .dataframe tbody tr th {\n        vertical-align: top;\n    }\n\n    .dataframe thead th {\n        text-align: right;\n    }\n</style>\n<table border=\"1\" class=\"dataframe\">\n  <thead>\n    <tr style=\"text-align: right;\">\n      <th>Symbols</th>\n      <th>AAPL</th>\n      <th>TSLA</th>\n      <th>TWTR</th>\n      <th>IBM</th>\n    </tr>\n    <tr>\n      <th>year</th>\n      <th></th>\n      <th></th>\n      <th></th>\n      <th></th>\n    </tr>\n  </thead>\n  <tbody>\n    <tr>\n      <td>2014</td>\n      <td>4.140340e+07</td>\n      <td>2.297500e+06</td>\n      <td>1.762940e+07</td>\n      <td>4.011900e+06</td>\n    </tr>\n    <tr>\n      <td>2015</td>\n      <td>1.306605e+10</td>\n      <td>1.088218e+09</td>\n      <td>5.361489e+09</td>\n      <td>1.105583e+09</td>\n    </tr>\n    <tr>\n      <td>2016</td>\n      <td>9.682478e+09</td>\n      <td>1.162362e+09</td>\n      <td>6.479294e+09</td>\n      <td>1.018606e+09</td>\n    </tr>\n    <tr>\n      <td>2017</td>\n      <td>6.810776e+09</td>\n      <td>1.590031e+09</td>\n      <td>4.410744e+09</td>\n      <td>1.071166e+09</td>\n    </tr>\n    <tr>\n      <td>2018</td>\n      <td>8.539036e+09</td>\n      <td>2.161639e+09</td>\n      <td>7.155865e+09</td>\n      <td>1.368561e+09</td>\n    </tr>\n    <tr>\n      <td>2019</td>\n      <td>7.063606e+09</td>\n      <td>2.308051e+09</td>\n      <td>3.880702e+09</td>\n      <td>9.466746e+08</td>\n    </tr>\n    <tr>\n      <td>2020</td>\n      <td>8.966640e+08</td>\n      <td>6.207367e+08</td>\n      <td>4.377809e+08</td>\n      <td>1.569603e+08</td>\n    </tr>\n  </tbody>\n</table>\n</div>",
      "text/plain": "Symbols          AAPL          TSLA          TWTR           IBM\nyear                                                           \n2014     4.140340e+07  2.297500e+06  1.762940e+07  4.011900e+06\n2015     1.306605e+10  1.088218e+09  5.361489e+09  1.105583e+09\n2016     9.682478e+09  1.162362e+09  6.479294e+09  1.018606e+09\n2017     6.810776e+09  1.590031e+09  4.410744e+09  1.071166e+09\n2018     8.539036e+09  2.161639e+09  7.155865e+09  1.368561e+09\n2019     7.063606e+09  2.308051e+09  3.880702e+09  9.466746e+08\n2020     8.966640e+08  6.207367e+08  4.377809e+08  1.569603e+08"
     },
     "execution_count": 30,
     "metadata": {},
     "output_type": "execute_result"
    }
   ],
   "source": [
    "vol['year'] = vol.index.year\n",
    "vol.groupby('year').sum()"
   ]
  },
  {
   "cell_type": "markdown",
   "metadata": {},
   "source": [
    "### BONUS: Create your own question and answer it."
   ]
  },
  {
   "cell_type": "code",
   "execution_count": null,
   "metadata": {
    "collapsed": true
   },
   "outputs": [],
   "source": []
  }
 ],
 "metadata": {
  "kernelspec": {
   "display_name": "Python 3.7.4 64-bit ('base': conda)",
   "language": "python",
   "name": "python37464bitbaseconda860125a80b3241dc941c83d04cfe8dc3"
  },
  "language_info": {
   "codemirror_mode": {
    "name": "ipython",
    "version": 2
   },
   "file_extension": ".py",
   "mimetype": "text/x-python",
   "name": "python",
   "nbconvert_exporter": "python",
   "pygments_lexer": "ipython2",
   "version": "3.7.4-final"
  }
 },
 "nbformat": 4,
 "nbformat_minor": 0
}